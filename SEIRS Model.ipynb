{
 "cells": [
  {
   "cell_type": "markdown",
   "metadata": {
    "collapsed": false
   },
   "source": [
    "Task: SEIRS Epidemic Spread \\(A More Sophisticated Model\\)\n",
    "\n",
    "The SEIRS model describes characteristics of epidemic spread where an incubation \\(E\\) period is introduced between infection and becoming infectious. In addition to the SIR model, the SEIRS model incorporates mortality, and recovered individuals can become susceptible to infection again after a certain period.\n",
    "\n",
    "The system of differential equations for the SEIRS model is as follows:\n"
   ]
  },
  {
   "cell_type": "code",
   "execution_count": 3,
   "metadata": {
    "collapsed": false
   },
   "outputs": [
    {
     "data": {
      "text/latex": [
       "\\begin{equation}\n",
       "\\dot{S} = \\underbrace{\\mu N}_{\\text{Birth}}-\\underbrace{\\frac{\\beta}{N}IS}_{\\text{Infection}}+\\underbrace{\\omega R}_{\\text{Loss of Immunity}} - \\underbrace{\\mu S}_{\\text{Natural Death}}\n",
       "\\end{equation}\n",
       "\n",
       "\\begin{equation}\n",
       "\\dot{E} = \\underbrace{\\frac{\\beta}{N}IS}_{\\text{Infection}} - \\underbrace{\\sigma E}_{\\text{Latent}} - \\underbrace{\\mu E}_{\\text{Natural Death}}\n",
       "\\end{equation}\n",
       "\n",
       "\\begin{equation}\n",
       "\\dot{I} = \\underbrace{\\sigma E}_{\\text{Latent}} - \\underbrace{\\gamma I}_{\\text{Recovery}} - \\underbrace{(\\mu \\alpha) I}_{\\text{Death}}\n",
       "\\end{equation}\n",
       "\n",
       "\\begin{equation}\n",
       "\\dot{R} = \\underbrace{\\gamma I}_{\\text{Recovery}} - \\underbrace{\\omega R}_{\\text{Loss of Immunity}} - \\underbrace{\\mu R}_{\\text{Natural Death}}\n",
       "\\end{equation}\n",
       "\n",
       "\\begin{equation}\n",
       "N = S + E + I + R\n",
       "\\end{equation}\n"
      ],
      "text/plain": [
       "<IPython.core.display.Latex object>"
      ]
     },
     "execution_count": 3,
     "metadata": {
     },
     "output_type": "execute_result"
    }
   ],
   "source": [
    "%%latex\n",
    "\\begin{equation}\n",
    "\\dot{S} = \\underbrace{\\mu N}_{\\text{Birth}}-\\underbrace{\\frac{\\beta}{N}IS}_{\\text{Infection}}+\\underbrace{\\omega R}_{\\text{Loss of Immunity}} - \\underbrace{\\mu S}_{\\text{Natural Death}}\n",
    "\\end{equation}\n",
    "\n",
    "\\begin{equation}\n",
    "\\dot{E} = \\underbrace{\\frac{\\beta}{N}IS}_{\\text{Infection}} - \\underbrace{\\sigma E}_{\\text{Latent}} - \\underbrace{\\mu E}_{\\text{Natural Death}}\n",
    "\\end{equation}\n",
    "\n",
    "\\begin{equation}\n",
    "\\dot{I} = \\underbrace{\\sigma E}_{\\text{Latent}} - \\underbrace{\\gamma I}_{\\text{Recovery}} - \\underbrace{(\\mu \\alpha) I}_{\\text{Death}}\n",
    "\\end{equation}\n",
    "\n",
    "\\begin{equation}\n",
    "\\dot{R} = \\underbrace{\\gamma I}_{\\text{Recovery}} - \\underbrace{\\omega R}_{\\text{Loss of Immunity}} - \\underbrace{\\mu R}_{\\text{Natural Death}}\n",
    "\\end{equation}\n",
    "\n",
    "\\begin{equation}\n",
    "N = S + E + I + R\n",
    "\\end{equation}"
   ]
  },
  {
   "cell_type": "markdown",
   "metadata": {
    "collapsed": false
   },
   "source": [
    "The model is written for a population in equilibrium, where individuals are born and die at the same rate μ>0. As a result of the epidemic, the infected are burdened with an extra death rate > 0.\n",
    "Let’s create a SIER model simulation (It doesn’t have to be interactive).\n",
    "Recommended parameter values: 1/γ=14 days,1/σ=7 days,1/ω=1 year,1/μ=76 years,β=0.21 days^(-1),1/α=7 days.\n",
    "The initial values should be: S(0)=10^6,E(0)=10.0,I(0)=R(0)=0.0\n"
   ]
  },
  {
   "cell_type": "code",
   "execution_count": 3,
   "metadata": {
    "collapsed": false
   },
   "outputs": [
    {
     "data": {
      "application/vnd.jupyter.widget-view+json": {
       "model_id": "e0dc3a064dcd4240b1dde9bdff57072d",
       "version_major": 2,
       "version_minor": 0
      },
      "text/plain": [
       "interactive(children=(FloatSlider(value=0.5, description='beta', max=0.5, min=0.1, step=0.05), FloatSlider(val…"
      ]
     },
     "execution_count": 3,
     "metadata": {
     },
     "output_type": "execute_result"
    }
   ],
   "source": [
    "import matplotlib.pyplot as plt\n",
    "from ipywidgets import interact, interactive, fixed, interact_manual\n",
    "import ipywidgets as widgets\n",
    "import numpy as np\n",
    "from scipy.integrate import odeint\n",
    "\n",
    "\n",
    "# Right-hand side of the differential equation\n",
    "def SEIR_LHS(y, t, N, beta, sigma, gamma, omega, mu, alpha):\n",
    "    #beta=infection rate, gamma=recovery rate, mu=die&born rate, alpha= mortality rate\n",
    "    S, E, I, R = y #susceptible (S), latent(E), infectious (I), and recovered (R)\n",
    "    dSdt = mu * N - (beta * S * I) / N + (omega*R) - (mu * S)\n",
    "    dEdt = (beta * S * I) / N - (sigma * E) - (mu * E)\n",
    "    dIdt = (sigma * E) - (gamma * I) - ((mu + alpha) * I)\n",
    "    dRdt = (gamma * I) - (omega * R) - (mu * R)\n",
    "    return dSdt, dEdt, dIdt, dRdt\n",
    "\n",
    "\n",
    "# Visualization\n",
    "fig = plt.figure()\n",
    "ax = fig.add_subplot(111, axisbelow=True)\n",
    "ax.set_xlabel('Time/days')\n",
    "ax.set_ylabel('Population (1e6+10 people)')\n",
    "ax.set_xlim(0, 300)\n",
    "ax.set_ylim(0, 1200)\n",
    "\n",
    "lS, = ax.plot([], [], 'b', alpha=0.5, lw=2, label='Susceptible')  #alpha=transparency, lw=linewidth\n",
    "lE, = ax.plot([], [], 'y', alpha=0.5, lw=2, label='Exposed')\n",
    "lI, = ax.plot([], [], 'r', alpha=0.5, lw=2, label='Infected')\n",
    "lR, = ax.plot([], [], 'g', alpha=0.5, lw=2, label='Recovered')\n",
    "\n",
    "ax.legend()\n",
    "\n",
    "\n",
    "# Initial values\n",
    "N = 1e6+10.0 #population in the city\n",
    "#beta = 100/21\n",
    "#sigma = 1/7\n",
    "#gamma = 1/14\n",
    "#omega = 1/365\n",
    "#mu = 1/(76*365)\n",
    "#alpha = 1/7\n",
    "\n",
    "#10 exposed people come to the city\n",
    "I0, E0, R0 = 0.0, 10.0, 0.0\n",
    "\n",
    "# So everyone else is susceptible\n",
    "S0 = N - I0 - E0 - R0\n",
    "y0 = S0, E0, I0, R0\n",
    "t = np.linspace(0, 300, 300)# We are interested in the developments over the next 10 months, so we take 300 days\n",
    "\n",
    "\n",
    "@interact(beta=(0.1,0.5,0.05),gamma=(0.02,0.1,0.05), mu=(0.000001,0.0004,0.000005), omega=(0.001,0.003,0.0005), sigma=(0.1,0.3,0.05), alpha=(0.1,0.3,0.05))\n",
    "def simulation(beta=100/21, gamma=1/14, mu=1/(76*365), omega=1/365, sigma=1/7, alpha=1/7):\n",
    "    \"\"\"\n",
    "    Interactive simulation of the SIR model\n",
    "    \"\"\"\n",
    "\n",
    "    ret = odeint(SEIR_LHS, y0, t, args=(N, beta, sigma, gamma, omega, mu, alpha))\n",
    "    S, E, I, R = ret.T\n",
    "    #The odeint function from the scipy.integrate module is used to numerically solve the differential equations\n",
    "    # and obtain the values of S, E, I, and R over time.\n",
    "\n",
    "    lS.set_data(t, S/1000)\n",
    "    lE.set_data(t, E/1000)\n",
    "    lI.set_data(t, I/1000)\n",
    "    lR.set_data(t, R/1000)\n",
    "    # The division by 1000 is used to scale the values to represent the absolute number\n",
    "    # of individuals in the population\n",
    "    ax.set_title(f'SEIR model simulation')\n",
    "    plt.show()"
   ]
  }
 ],
 "metadata": {
  "kernelspec": {
   "argv": [
    "/ext/colab/launch.sh",
    "{connection_file}"
   ],
   "display_name": "Python 3 (Colab)",
   "env": {
   },
   "language": "python",
   "name": "colab",
   "resource_dir": "/ext/jupyter/kernels/colab"
  },
  "language_info": {
   "codemirror_mode": {
    "name": "ipython",
    "version": 3
   },
   "file_extension": ".py",
   "mimetype": "text/x-python",
   "name": "python",
   "nbconvert_exporter": "python",
   "pygments_lexer": "ipython3",
   "version": "3.10.12"
  }
 },
 "nbformat": 4,
 "nbformat_minor": 4
}